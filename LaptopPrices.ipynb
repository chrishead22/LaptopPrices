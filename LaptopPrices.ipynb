{
 "cells": [
  {
   "cell_type": "markdown",
   "metadata": {},
   "source": [
    "<font size=\"4\">  \n",
    "    ML 5622 Final Project - Laptop Prices\n",
    "</font> \n",
    "<font size=\"3\">  \n",
    "    <ul>\n",
    "        <li>Dataset is taken from <a href=\"https://www.kaggle.com/datasets/owm4096/laptop-prices\" target=\"_blank\">Kaggle</a></li>  \n",
    "    </ul>\n",
    "</font> \n"
   ]
  }
 ],
 "metadata": {
  "kernelspec": {
   "display_name": "base",
   "language": "python",
   "name": "python3"
  },
  "language_info": {
   "codemirror_mode": {
    "name": "ipython",
    "version": 3
   },
   "file_extension": ".py",
   "mimetype": "text/x-python",
   "name": "python",
   "nbconvert_exporter": "python",
   "pygments_lexer": "ipython3",
   "version": "3.12.4"
  }
 },
 "nbformat": 4,
 "nbformat_minor": 2
}
